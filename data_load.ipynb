{
 "cells": [
  {
   "cell_type": "code",
   "execution_count": 2,
   "id": "juvenile-forward",
   "metadata": {},
   "outputs": [
    {
     "name": "stderr",
     "output_type": "stream",
     "text": [
      "/opt/app-root/lib/python3.6/site-packages/geopandas/_compat.py:110: UserWarning: The Shapely GEOS version (3.8.0-CAPI-1.13.1 ) is incompatible with the GEOS version PyGEOS was compiled with (3.9.0-CAPI-1.16.2). Conversions between both will be slow.\n",
      "  shapely_geos_version, geos_capi_version_string\n"
     ]
    }
   ],
   "source": [
    "from geoband.API import *\n",
    "import folium\n",
    "import json\n",
    "import geopandas as gpd\n",
    "import pandas as pd"
   ]
  },
  {
   "cell_type": "code",
   "execution_count": 3,
   "id": "italic-seminar",
   "metadata": {},
   "outputs": [],
   "source": [
    "GetCompasData('SBJ_2109_001', '1', '1.수원시_112신고이력(격자_관할경계매핑).csv')\n",
    "GetCompasData('SBJ_2109_001', '2', '2.수원시_112신고(격자별 신고횟수).geojson')\n",
    "GetCompasData('SBJ_2109_001', '3', '3.3개시도_112신고이력(관할경계매핑).csv')\n",
    "GetCompasData('SBJ_2109_001', '4', '4.수원시_시간대별_유동인구(2020).csv')\n",
    "GetCompasData('SBJ_2109_001', '5', '5.수원시_성연령별_유동인구(2020).csv')\n",
    "GetCompasData('SBJ_2109_001', '6', '6.수원시_요일별_유동인구(2020).csv')\n",
    "GetCompasData('SBJ_2109_001', '7', '7.4개시도_주택노후도.geojson')\n",
    "GetCompasData('SBJ_2109_001', '8', '8.4개시도_유흥업소현황.geojson')\n",
    "GetCompasData('SBJ_2109_001', '9', '9.4개시도_용도지역도.geojson')\n",
    "GetCompasData('SBJ_2109_001', '10', '10.4개시도_사업지구경계도.geojson')\n",
    "\n",
    "GetCompasData('SBJ_2109_001', '11', '11.4개시도_경찰서_관할경계.geojson')\n",
    "GetCompasData('SBJ_2109_001', '12', '12.4개시도_치안안전센터_관할경계.geojson')\n",
    "GetCompasData('SBJ_2109_001', '13', '13.수원시_노숙인자활시설현황.csv')\n",
    "GetCompasData('SBJ_2109_001', '14', '14.수원시_아동복지시설현황.csv')\n",
    "GetCompasData('SBJ_2109_001', '15', '15.수원시_지역아동센터시설현황.csv')\n",
    "GetCompasData('SBJ_2109_001', '16', '16.수원시_청소년공부방현황.csv')\n",
    "GetCompasData('SBJ_2109_001', '17', '17.수원시_도서관현황.csv')\n",
    "GetCompasData('SBJ_2109_001', '18', '18.수원시_무료급식소현황.csv')\n",
    "GetCompasData('SBJ_2109_001', '19', '19.수원시_아동복지급식소현황.csv')\n",
    "GetCompasData('SBJ_2109_001', '20', '20.수원시_여성안심택배함현황.csv')\n",
    "\n",
    "GetCompasData('SBJ_2109_001', '21', '21.수원시_가로등현황.csv')\n",
    "GetCompasData('SBJ_2109_001', '22', '22.4개시도_보안등현황.csv')\n",
    "GetCompasData('SBJ_2109_001', '23', '23.4개시도_안전비상벨현황.geojson')\n",
    "GetCompasData('SBJ_2109_001', '24', '24.4개시도_CCTV설치현황.csv')\n",
    "GetCompasData('SBJ_2109_001', '27', '27.4개시도_공원현황.csv')\n",
    "GetCompasData('SBJ_2109_001', '28', '28.수원시_도로명주소(도로).geojson')\n",
    "GetCompasData('SBJ_2109_001', '29', '29.수원시_도로명주소(건물).geojson')\n",
    "\n",
    "GetCompasData('SBJ_2109_001', '30', '30.수원시_성연령별_거주인구격자(250M_X_250M).geojson')\n",
    "GetCompasData('SBJ_2109_001', '31', '31.수원시_행정경계(읍면동).geojson')\n",
    "GetCompasData('SBJ_2109_001', '32', '32.수원시_표준격자(250M_x_250M).geojson')\n",
    "GetCompasData('SBJ_2109_001', '33', '33.4개시도_1인가구수.csv')\n",
    "GetCompasData('SBJ_2109_001', '34', '34.4개시도_기초수급자현황.csv')\n",
    "GetCompasData('SBJ_2109_001', '35', '35.4개시도_성연령별_총인구분포.csv')\n",
    "GetCompasData('SBJ_2109_001', '36', '36.4개시도_인구데이터(외국인).csv')\n",
    "GetCompasData('SBJ_2109_001', '39', '39.4개시도_경찰관서현황.csv')\n",
    "GetCompasData('SBJ_2109_001', '40', '40.4개시도_어린이놀이시설현황.csv')\n",
    "\n",
    "GetCompasData('SBJ_2109_001', '41', '41.4개시도_토지이용계획도.geojson')\n",
    "GetCompasData('SBJ_2109_001', '42', '42.4개시도_편의점현황.geojson')"
   ]
  },
  {
   "cell_type": "code",
   "execution_count": 2,
   "id": "banner-arnold",
   "metadata": {},
   "outputs": [],
   "source": []
  },
  {
   "cell_type": "code",
   "execution_count": null,
   "id": "congressional-biodiversity",
   "metadata": {},
   "outputs": [],
   "source": [
    "df_suwon = pd.read_csv('1.수원시_112신고이력(격자_관할경계매핑).csv')\n",
    "display(df_suwon)"
   ]
  }
 ],
 "metadata": {
  "kernelspec": {
   "display_name": "Python 3",
   "language": "python",
   "name": "python3"
  },
  "language_info": {
   "codemirror_mode": {
    "name": "ipython",
    "version": 3
   },
   "file_extension": ".py",
   "mimetype": "text/x-python",
   "name": "python",
   "nbconvert_exporter": "python",
   "pygments_lexer": "ipython3",
   "version": "3.6.9"
  }
 },
 "nbformat": 4,
 "nbformat_minor": 5
}
